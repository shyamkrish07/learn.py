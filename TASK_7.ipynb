{
  "nbformat": 4,
  "nbformat_minor": 0,
  "metadata": {
    "colab": {
      "name": "TASK  7.ipynb",
      "provenance": [],
      "include_colab_link": true
    },
    "kernelspec": {
      "name": "python3",
      "display_name": "Python 3"
    },
    "language_info": {
      "name": "python"
    }
  },
  "cells": [
    {
      "cell_type": "markdown",
      "metadata": {
        "id": "view-in-github",
        "colab_type": "text"
      },
      "source": [
        "<a href=\"https://colab.research.google.com/github/shyamkrish07/learn.py/blob/main/TASK_7.ipynb\" target=\"_parent\"><img src=\"https://colab.research.google.com/assets/colab-badge.svg\" alt=\"Open In Colab\"/></a>"
      ]
    },
    {
      "cell_type": "markdown",
      "metadata": {
        "id": "b0V3vwzcydKy"
      },
      "source": [
        "1. Write a program to check whether a  string is palindrome or not using functions. \n",
        "\n",
        "   ( A function is to be created to check whether the string is palindrome and it should give the output true or false to the main program)"
      ]
    },
    {
      "cell_type": "code",
      "metadata": {
        "id": "M2Mi7EOdyxiu",
        "outputId": "f48d7836-7fbd-4e50-dc9d-d9f4935fdad6",
        "colab": {
          "base_uri": "https://localhost:8080/"
        }
      },
      "source": [
        "#please enter the code below this line.\n",
        "def Palindrome(i):\n",
        "  if i ==string[::-1] :\n",
        "    print(\"Palindrome\")\n",
        "  else:\n",
        "    print('Not palindrome')\n",
        " \n",
        "string=input(\"Enter a string : \")\n",
        "Palindrome(string)"
      ],
      "execution_count": 1,
      "outputs": [
        {
          "output_type": "stream",
          "text": [
            "Enter a string : LAIAL\n",
            "Palindrome\n"
          ],
          "name": "stdout"
        }
      ]
    },
    {
      "cell_type": "markdown",
      "metadata": {
        "id": "vSiShTyOzEz-"
      },
      "source": [
        "2.  Write a menu driven program to find largest element in L, smallest element, avg of all values, sum of all values in L. All these operation should be performed in different functions and the result should be returned.\n",
        "\n",
        "\n",
        "      L=[23,24,11,90,1,41,9,99,28,56,72]"
      ]
    },
    {
      "cell_type": "code",
      "metadata": {
        "id": "fRtMIw_CzsmO",
        "outputId": "110c8df4-0371-434d-babc-b7ec2a9d05f9",
        "colab": {
          "base_uri": "https://localhost:8080/"
        }
      },
      "source": [
        " \n",
        " \n",
        "#please enter the code below this line.\n",
        "L = [23,24,11,90,1,41,9,99,28,56,72]\n",
        "choice = int(input(\"Enter your choice : \"))\n",
        " \n",
        "def smallest(L):\n",
        "    L.sort()\n",
        "    smallestnumber = L[0]\n",
        "    print(smallestnumber)\n",
        "    \n",
        "def largest(L):\n",
        "    L.sort()\n",
        "    largestnumber = L[len(L) - 1]\n",
        "    print(largestnumber)\n",
        "    \n",
        "def totalsum(L):\n",
        "    Total = sum(L)\n",
        "    print(Total)\n",
        "    \n",
        "def average(L):\n",
        "    Average = sum(L)/len(L)\n",
        "    print(Average)\n",
        "    \n",
        " \n",
        "if choice == 1:\n",
        "    smallest(L)\n",
        "elif choice == 2:\n",
        "    largest(L)\n",
        "elif choice == 3:\n",
        "    average(L)\n",
        "elif choice == 4:\n",
        "    totalsum(L)\n",
        "else:\n",
        "    print(\"wrong\")"
      ],
      "execution_count": 5,
      "outputs": [
        {
          "output_type": "stream",
          "text": [
            "Enter your choice : 10\n",
            "wrong\n"
          ],
          "name": "stdout"
        }
      ]
    }
  ]
}
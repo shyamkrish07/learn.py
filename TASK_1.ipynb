{
  "nbformat": 4,
  "nbformat_minor": 0,
  "metadata": {
    "colab": {
      "name": "TASK 1",
      "provenance": [],
      "include_colab_link": true
    },
    "kernelspec": {
      "name": "python3",
      "display_name": "Python 3"
    },
    "language_info": {
      "name": "python"
    }
  },
  "cells": [
    {
      "cell_type": "markdown",
      "metadata": {
        "id": "view-in-github",
        "colab_type": "text"
      },
      "source": [
        "<a href=\"https://colab.research.google.com/github/shyamkrish07/learn.py/blob/main/TASK_1.ipynb\" target=\"_parent\"><img src=\"https://colab.research.google.com/assets/colab-badge.svg\" alt=\"Open In Colab\"/></a>"
      ]
    },
    {
      "cell_type": "markdown",
      "metadata": {
        "id": "q-yWxfWESiQo"
      },
      "source": [
        "1.Write a program that uses input to prompt a user for their name and then welcomes them."
      ]
    },
    {
      "cell_type": "code",
      "metadata": {
        "id": "9ikpRxqMSxu0",
        "colab": {
          "base_uri": "https://localhost:8080/"
        },
        "outputId": "0b710234-8fac-42d7-f0da-2adbd22b74e6"
      },
      "source": [
        "#please provide your answer here below this line\n",
        "name = input(\"Enter your name :\")\n",
        "print ('Hello', name)"
      ],
      "execution_count": null,
      "outputs": [
        {
          "output_type": "stream",
          "text": [
            "Enter your name :Shyam krishnan\n",
            "Hello Shyam krishnan\n"
          ],
          "name": "stdout"
        }
      ]
    },
    {
      "cell_type": "markdown",
      "metadata": {
        "id": "Ay5OdxguS-2Z"
      },
      "source": [
        "2.Write a program which prompts the user for a Celsius temperature, convert the temperature to Fahrenheit, and print out the converted temperature."
      ]
    },
    {
      "cell_type": "code",
      "metadata": {
        "id": "MMv2yWNtTgEu",
        "colab": {
          "base_uri": "https://localhost:8080/"
        },
        "outputId": "150119bd-b2bf-4328-facd-b10e7e1c09d6"
      },
      "source": [
        "#please provide your answer here below this line\n",
        "c = float(input(\"enter your celsius:\"))\n",
        "m = (float(1.8))\n",
        "f = (c*m)+32\n",
        "print(\"your faranheit output is:\", f, \"F\")"
      ],
      "execution_count": null,
      "outputs": [
        {
          "output_type": "stream",
          "text": [
            "enter your celsius:10\n",
            "your faranheit output is: 50.0 F\n"
          ],
          "name": "stdout"
        }
      ]
    },
    {
      "cell_type": "markdown",
      "metadata": {
        "id": "v6O1a198TpNd"
      },
      "source": [
        "3.Write a Python program to convert degree to radian."
      ]
    },
    {
      "cell_type": "code",
      "metadata": {
        "id": "27Jj4_D0UQBA",
        "colab": {
          "base_uri": "https://localhost:8080/"
        },
        "outputId": "6b110ee6-328b-4a3f-e909-2b69b3df5738"
      },
      "source": [
        "#please provide your answer here below this line\n",
        "d = float(input (\"enter your degree:\"))\n",
        "m= (float(0.0175))\n",
        "r= (d*m)\n",
        "print (\"radian out is :\",r,\"R\")"
      ],
      "execution_count": null,
      "outputs": [
        {
          "output_type": "stream",
          "text": [
            "enter your degree:10\n",
            "radian out is : 0.17500000000000002 R\n"
          ],
          "name": "stdout"
        }
      ]
    }
  ]
}